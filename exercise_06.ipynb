{
 "cells": [
  {
   "cell_type": "markdown",
   "id": "eb090033",
   "metadata": {},
   "source": [
    "# Introduction\n",
    "\n",
    "In this notebook we will walk you through implementing a simple A* algorithm for path planning.\n",
    "\n",
    "We have defined an abstract class for a path planning algorithm called `Graph`<sup>[1]</sup>, as well as an abstract class `Node`. Our `main` uses implementations of this interface to show the result of path planning (displaying the path and giving us its cost based on the algorithm's cost function). Your first task should be to take a look at the constructor and members of those two classes (you can ignore the helper function if you wish to).\n",
    "\n",
    "An example implementation for a planner algorithm has been in `grass_fire.py`. You can try it out:"
   ]
  },
  {
   "cell_type": "code",
   "execution_count": 4,
   "id": "c0a395bc",
   "metadata": {},
   "outputs": [
    {
     "name": "stdout",
     "output_type": "stream",
     "text": [
      "Node cost map:\n",
      "1 1 1 X X X X X X 1\n",
      "1 1 1 X X X X X X 1\n",
      "1 1 1 X X X X X X 1\n",
      "1 1 1 1 1 1 1 1 1 1\n",
      "1 1 1 1 1 1 1 1 1 1\n",
      "Total cost-to-go map, initial point at (1, 2)\n",
      " 3.0  2.0  3.0    ?    ?    ?    ?    ?    ? 12.0\n",
      " 2.0  1.0  2.0    ?    ?    ?    ?    ?    ? 11.0\n",
      " 1.0    0  1.0    ?    ?    ?    ?    ?    ? 10.0\n",
      " 2.0  1.0  2.0  3.0  4.0  5.0  6.0  7.0  8.0  9.0\n",
      " 3.0  2.0  3.0  4.0  5.0  6.0  7.0  8.0  9.0 10.0\n",
      "Path from initial point (1, 2) to goal point (9, 0)\n",
      "   X    X    X    X    X    X    X    X    X   12\n",
      "   X    X    X    X    X    X    X    X    X   11\n",
      "   X    0    X    X    X    X    X    X    X   10\n",
      "   X    1    2    3    4    5    6    7    8    9\n",
      "   X    X    X    X    X    X    X    X    X    X\n"
     ]
    }
   ],
   "source": [
    "import grass_fire\n",
    "grass_fire.main()"
   ]
  },
  {
   "cell_type": "markdown",
   "id": "b548a4d4",
   "metadata": {},
   "source": [
    "However you will quickly realize that this algorithm scales very poorly to problems with bigger state space:"
   ]
  },
  {
   "cell_type": "code",
   "execution_count": 5,
   "id": "1a9124da",
   "metadata": {},
   "outputs": [
    {
     "name": "stdout",
     "output_type": "stream",
     "text": [
      "Path search took 0.1547169995319564ms, final cost: 8.0\n",
      "Path search took 0.5831419985042885ms, final cost: 18.0\n",
      "Path search took 2.577957999164937ms, final cost: 38.0\n",
      "Path search took 16.07375500316266ms, final cost: 98.0\n",
      "Path search took 97.99445699900389ms, final cost: 198.0\n",
      "Path search took 535.8410449989606ms, final cost: 398.0\n",
      "Path search took 3703.826870998455ms, final cost: 798.0\n",
      "Path search took 7127.419660002488ms, final cost: 998.0\n"
     ]
    }
   ],
   "source": [
    "import main\n",
    "\n",
    "main.run_jupy({'algo_name': 'GrassFire', 'grid_size': 5, 'number_obstacles': 0, 'no_render': True})\n",
    "main.run_jupy({'algo_name': 'GrassFire', 'grid_size': 10, 'number_obstacles': 0, 'no_render': True})\n",
    "main.run_jupy({'algo_name': 'GrassFire', 'grid_size': 20, 'number_obstacles': 0, 'no_render': True})\n",
    "main.run_jupy({'algo_name': 'GrassFire', 'grid_size': 50, 'number_obstacles': 0, 'no_render': True})\n",
    "main.run_jupy({'algo_name': 'GrassFire', 'grid_size': 100, 'number_obstacles': 0, 'no_render': True})\n",
    "main.run_jupy({'algo_name': 'GrassFire', 'grid_size': 200, 'number_obstacles': 0, 'no_render': True})\n",
    "main.run_jupy({'algo_name': 'GrassFire', 'grid_size': 400, 'number_obstacles': 0, 'no_render': True})\n",
    "main.run_jupy({'algo_name': 'GrassFire', 'grid_size': 500, 'number_obstacles': 0, 'no_render': True})"
   ]
  },
  {
   "cell_type": "markdown",
   "id": "8e64e5b2",
   "metadata": {},
   "source": [
    "### Question 1: complexity\n",
    "\n",
    "a. Given that our map is a square, what is the size of the input `n` based on the size of the grid `m`?\n",
    "\n",
    "b. What seems to be the complexity of this implementation? Please note that we are lookin at `O(n)` and *not* `O(m)`.\n",
    "\n",
    "c. Reading the source of this code (file `grass_fire.py`, function `GrassFire::compute_path`), where is the bottleneck? How could this bottleneck be optimized? What would the complexity be without this bottleneck?\n",
    "\n",
    "\n",
    "\n",
    "\n",
    "# Reminder: the algorithm description\n",
    "\n",
    "TODO: make sure those guys know wassup\n",
    "\n",
    "\n",
    "# The beginning: our graph's Node class\n",
    "\n",
    "For this exercise we give you already the definition of the `Node` we will be using. Notice the differences between `AstarNode` and `GrassFireNode`: this is why we are coupling graph creation with graph search!<sup>[1]</sup>"
   ]
  },
  {
   "cell_type": "code",
   "execution_count": 6,
   "id": "a3e12836",
   "metadata": {},
   "outputs": [],
   "source": [
    "# TODO: cleanup the imports for the stoodents\n",
    "from abc import ABC, abstractmethod\n",
    "from math import inf\n",
    "from typing import List, Optional\n",
    "import itertools\n",
    "from logging import debug, info, warning\n",
    "from graph import Graph, Node\n",
    "import heapq\n",
    "\n",
    "\n",
    "class AstarNode(Node):\n",
    "    def __init__(self, x: int, y: int, cost_to_go: float) -> None:\n",
    "        super().__init__(x, y, cost_to_go)\n",
    "        self.g = inf\n",
    "        self.h = 0.0\n",
    "        self.parent: Optional[AstarNode] = None\n",
    "\n",
    "    @property\n",
    "    def f(self):\n",
    "        return self.h + self.cost"
   ]
  },
  {
   "cell_type": "markdown",
   "id": "753144cd",
   "metadata": {},
   "source": [
    "The `x`, `y`, and `cost_to_go` are passed to the base class. `h` is initialized to some placeholder value (could have chosen `inf` as well). The `cost` attribute of the base `Node` corresponds to the `g` function in A* parlance, hence its use in the definition of the `f` property. The `parent` attribute is used to actually construct our path: by recursively retrieving parents, one constructs a path.\n",
    "\n",
    "## Question 2\n",
    "\n",
    "Later in the algorithm, we will find the `AstarNode` into a priority queue (more specifically, Python's `heapq`). This will allow us to retrieve efficiently the node with the lower cost `f`). To this aim, we decide to implement a comparison operator for the node class.\n",
    "\n",
    "a. implement the `__lt__` function below (note: this defines strict inequality `<`, not `<=`)"
   ]
  },
  {
   "cell_type": "code",
   "execution_count": 7,
   "id": "e3c02913",
   "metadata": {},
   "outputs": [],
   "source": [
    "    def __lt__(self, other):\n",
    "        pass # TODO"
   ]
  },
  {
   "cell_type": "markdown",
   "id": "7edc2356",
   "metadata": {},
   "source": [
    "b. (answer after finishing the book) Should we (if so, why?) treat the case where `f1 = f2` but `h1 != h2 and g1 != g2`?\n",
    "\n",
    "# Heuristic\n",
    "\n",
    "The A* algorithm needs a heuristic `h` to direct the search. This function's goal is to give a rough estimate of the cost from a node `a` to a node `b` (usually the goal node). To allow trying out different heuristics, we created an abstract `AstarHeuristic` class:"
   ]
  },
  {
   "cell_type": "code",
   "execution_count": 8,
   "id": "a283c631",
   "metadata": {},
   "outputs": [],
   "source": [
    "class AstarHeuristic(ABC):\n",
    "    @abstractmethod\n",
    "    def __call__(self, xs: int, ys: int, xf: int, yf: int) -> float:\n",
    "        pass"
   ]
  },
  {
   "cell_type": "markdown",
   "id": "e2f04c42",
   "metadata": {},
   "source": [
    "Where `xs`, `ys` and `xf`, `yf` are the coordinate of the start and end node respectively.\n",
    "\n",
    "\n",
    "## Question 3\n",
    "\n",
    "The novel idea A* brought was the use of a heuristic. From this function's properties can various properties of A* be derived. Namely, an *optimistic* heuristic guarantees the algorithm's output will be optimal. Here, *optimistic* means the value given by the function is a lower-bound to the real cost of going from one node to another, i.e.:\n",
    "\n",
    "$$\n",
    "  h~\\text{is optimistic } \\Leftrightarrow h(n_a, n_b) \\le g^*(n_a, n_b), \\forall n_a, n_b \\in \\mathcal{N}\n",
    "$$\n",
    "\n",
    "Where $g^*(a, b)$ is the function giving the optimal cost for going from $a$ to $b$.\n",
    "\n",
    "\n",
    "a. (answer after finishing the book) why would we ever want to use a non-optimistic heuristic?\n",
    "\n",
    "b. (answer after finishing the book) are all optimistic heuristics equivalent?\n",
    "\n",
    "c. Implement the heuristic below"
   ]
  },
  {
   "cell_type": "code",
   "execution_count": 9,
   "id": "0621f917",
   "metadata": {},
   "outputs": [],
   "source": [
    "class Norm1AstarHeuristic(AstarHeuristic):\n",
    "    pass #TODO"
   ]
  },
  {
   "cell_type": "markdown",
   "id": "8cb2e273",
   "metadata": {},
   "source": [
    "Looking at the `grass_fire.py` code, you may have noticed we associate to cost-to-go (i.e. the cost of going from a node A to a node B) to the destination node (i.e. we do not explictly create the edges). This association is done by passing a `cost_map` $c : (\\mathbb{R} \\times \\mathbb{R}) \\rightarrow  \\mathbb{R}$ to the constructor of the graph.\n",
    "This map returns the cost-to-go associated to the node (identified by its $(x, y)$ coordinates).\n",
    "\n",
    "We do the same with our `AstarGraph`, except we create `AstarNode`s instead of `GrassFireNode`s:"
   ]
  },
  {
   "cell_type": "code",
   "execution_count": 10,
   "id": "6a0b32ee",
   "metadata": {},
   "outputs": [],
   "source": [
    "class AstarGraph(Graph[AstarNode]):\n",
    "    def __init__(self, max_x: int, max_y: int, cost_map, h: AstarHeuristic) -> None:\n",
    "        super().__init__(max_x, max_y)\n",
    "        self.h = h\n",
    "        for z in range(max_x * max_y):\n",
    "            x, y = self._unflatten(z)\n",
    "            self._nodes.append(AstarNode(x, y, cost_map[(x, y)]))"
   ]
  },
  {
   "cell_type": "markdown",
   "id": "225c9536",
   "metadata": {},
   "source": [
    "Now, it is time to implement the search itself. In the block below, you will find different functions to implement. The main loop is almostly mostly yours to fill (search for the `TODO`s)."
   ]
  },
  {
   "cell_type": "code",
   "execution_count": 11,
   "id": "27ecea11",
   "metadata": {},
   "outputs": [],
   "source": [
    "    def reset_nodes(self):\n",
    "        pass # TODO\n",
    "\n",
    "    def collect_path(self, node: AstarNode) -> List[AstarNode]:\n",
    "        pass # TODO\n",
    "    \n",
    "    def get_neighbors(self, node: AstarNode) -> List[AstarNode]:\n",
    "        pass # TODO\n",
    "\n",
    "    def compute_path(self, xs: int, ys: int, xf: int, yf: int) -> List[AstarNode]:\n",
    "        self.reset_nodes()\n",
    "        start = self.node(xs, ys)\n",
    "        start.g = 0 # cost from start to itself is obviously 0\n",
    "        heap = [start]\n",
    "\n",
    "        max_iter = 1000000\n",
    "        for n in range(max_iter):\n",
    "            try:\n",
    "                node_to_explore = heapq.heappop(heap)\n",
    "            except IndexError:\n",
    "                warning(\n",
    "                    f\"No path exists from start ({xs}, {ys}) to goal ({xf}, {yf}) after {n+1} iterations\"\n",
    "                )\n",
    "                return []\n",
    "\n",
    "            x = node_to_explore.x\n",
    "            y = node_to_explore.y\n",
    "\n",
    "            if x == xf and y == yf:\n",
    "                info(\n",
    "                    f\"Found path from start ({xs}, {ys}) to goal ({xf}, {yf}) after {n+1} iterations and {n+1+len(heap)} nodes added\"\n",
    "                )\n",
    "                return self.collect_path(node_to_explore)\n",
    "\n",
    "            for next_node in self.get_neighbors(node_to_explore):\n",
    "                # TODO: compute costs for next_node, add it to the heap if required\n",
    "                pass\n",
    "\n",
    "        warning(f\"Could not find a path after {max_iter} iterations\")\n",
    "        return []"
   ]
  },
  {
   "cell_type": "markdown",
   "id": "c45eb147",
   "metadata": {},
   "source": [
    "a. Why do we check `x == xf and y == yf` after popping a node from the heap, rather than before inserting it (i.e. inside the `for` loop)?\n",
    "\n",
    "# Trying out the solution\n",
    "\n",
    "Let's try the same thing we did with the `GrassFire`, but with our new A*. This is a trivial test (since there are no obstacles), but gives us a good idea of the best-case complexity:"
   ]
  },
  {
   "cell_type": "code",
   "execution_count": 12,
   "id": "c8ec0e32",
   "metadata": {},
   "outputs": [
    {
     "ename": "TypeError",
     "evalue": "Can't instantiate abstract class Norm1AstarHeuristic with abstract method __call__",
     "output_type": "error",
     "traceback": [
      "\u001b[0;31m---------------------------------------------------------------------------\u001b[0m",
      "\u001b[0;31mTypeError\u001b[0m                                 Traceback (most recent call last)",
      "Cell \u001b[0;32mIn [12], line 1\u001b[0m\n\u001b[0;32m----> 1\u001b[0m h \u001b[38;5;241m=\u001b[39m \u001b[43mNorm1AstarHeuristic\u001b[49m\u001b[43m(\u001b[49m\u001b[43m)\u001b[49m\n\u001b[1;32m      2\u001b[0m main\u001b[38;5;241m.\u001b[39mmain({\u001b[38;5;124m'\u001b[39m\u001b[38;5;124mgrid_size\u001b[39m\u001b[38;5;124m'\u001b[39m: \u001b[38;5;241m5\u001b[39m, \u001b[38;5;124m'\u001b[39m\u001b[38;5;124mnumber_obstacles\u001b[39m\u001b[38;5;124m'\u001b[39m: \u001b[38;5;241m0\u001b[39m, \u001b[38;5;124m'\u001b[39m\u001b[38;5;124mno_render\u001b[39m\u001b[38;5;124m'\u001b[39m: \u001b[38;5;28;01mTrue\u001b[39;00m}, h)\n\u001b[1;32m      3\u001b[0m main\u001b[38;5;241m.\u001b[39mmain({\u001b[38;5;124m'\u001b[39m\u001b[38;5;124mgrid_size\u001b[39m\u001b[38;5;124m'\u001b[39m: \u001b[38;5;241m10\u001b[39m, \u001b[38;5;124m'\u001b[39m\u001b[38;5;124mnumber_obstacles\u001b[39m\u001b[38;5;124m'\u001b[39m: \u001b[38;5;241m0\u001b[39m, \u001b[38;5;124m'\u001b[39m\u001b[38;5;124mno_render\u001b[39m\u001b[38;5;124m'\u001b[39m: \u001b[38;5;28;01mTrue\u001b[39;00m}, h)\n",
      "\u001b[0;31mTypeError\u001b[0m: Can't instantiate abstract class Norm1AstarHeuristic with abstract method __call__"
     ]
    }
   ],
   "source": [
    "h = Norm1AstarHeuristic()\n",
    "main.run_jupy({'grid_size': 5, 'number_obstacles': 0, 'no_render': True}, h)\n",
    "main.run_jupy({'grid_size': 10, 'number_obstacles': 0, 'no_render': True}, h)\n",
    "main.run_jupy({'grid_size': 20, 'number_obstacles': 0, 'no_render': True}, h)\n",
    "main.run_jupy({'grid_size': 50, 'number_obstacles': 0, 'no_render': True}, h)\n",
    "main.run_jupy({'grid_size': 100, 'number_obstacles': 0, 'no_render': True}, h)\n",
    "main.run_jupy({'grid_size': 200, 'number_obstacles': 0, 'no_render': True}, h)\n",
    "main.run_jupy({'grid_size': 400, 'number_obstacles': 0, 'no_render': True}, h)\n",
    "main.run_jupy({'grid_size': 500, 'number_obstacles': 0, 'no_render': True}, h)"
   ]
  },
  {
   "cell_type": "markdown",
   "id": "74e2eaf5",
   "metadata": {},
   "source": [
    "#### Footnotes\n",
    "\n",
    "[1] A graph and a graph search algorithm are two different things, and the latter can be implemented generically over the former. This requires however the Graph (as well as the Node and Edge) class to implement a number of functions. While not a specifically daunting task, this is not within the scope of this exercise. We have therefore decided to keep the graph creation and search tighly coupled, allowing you (almost) complete freedom over the way nodes and edges are stored. For an example implementation of a generic graph library, the Boost Graph Library (BGL) is your best bet: https://www.boost.org/doc/libs/1_81_0/libs/graph/doc/index.html"
   ]
  }
 ],
 "metadata": {
  "kernelspec": {
   "display_name": "Python 3 (ipykernel)",
   "language": "python",
   "name": "python3"
  },
  "language_info": {
   "codemirror_mode": {
    "name": "ipython",
    "version": 3
   },
   "file_extension": ".py",
   "mimetype": "text/x-python",
   "name": "python",
   "nbconvert_exporter": "python",
   "pygments_lexer": "ipython3",
   "version": "3.10.6"
  }
 },
 "nbformat": 4,
 "nbformat_minor": 5
}
