{
 "cells": [
  {
   "cell_type": "markdown",
   "id": "eb090033",
   "metadata": {},
   "source": [
    "# Introduction\n",
    "\n",
    "In this notebook we will walk you through implementing a simple A* algorithm for path planning.\n",
    "\n",
    "We have defined an abstract class for a path planning algorithm called `Graph`<sup>[1]</sup>, as well as an abstract class `Node`. Our `main` uses implementations of this interface to show the result of path planning (displaying the path and giving us its cost based on the algorithm's cost function). Your first task should be to take a look at the constructor and members of those two classes (you can ignore the helper function if you wish to).\n",
    "\n",
    "An example implementation for a planner algorithm has been in `grass_fire.py`. You can try it out:"
   ]
  },
  {
   "cell_type": "code",
   "execution_count": 1,
   "id": "c0a395bc",
   "metadata": {},
   "outputs": [
    {
     "name": "stdout",
     "output_type": "stream",
     "text": [
      "Node cost map:\n",
      "1 1 1 X X X X X X 1\n",
      "1 1 1 X X X X X X 1\n",
      "1 1 1 X X X X X X 1\n",
      "1 1 1 1 1 1 1 1 1 1\n",
      "1 1 1 1 1 1 1 1 1 1\n",
      "YO: 32, 50\n",
      "Total cost-to-go map, initial point at (1, 2)\n",
      " 3.0  2.0  3.0    ?    ?    ?    ?    ?    ? 12.0\n",
      " 2.0  1.0  2.0    ?    ?    ?    ?    ?    ? 11.0\n",
      " 1.0    0  1.0    ?    ?    ?    ?    ?    ? 10.0\n",
      " 2.0  1.0  2.0  3.0  4.0  5.0  6.0  7.0  8.0  9.0\n",
      " 3.0  2.0  3.0  4.0  5.0  6.0  7.0  8.0  9.0 10.0\n",
      "Path from initial point (1, 2) to goal point (9, 0)\n",
      "   X    X    X    X    X    X    X    X    X   12\n",
      "   X    X    X    X    X    X    X    X    X   11\n",
      "   X    0    X    X    X    X    X    X    X   10\n",
      "   X    1    2    3    4    5    6    7    8    9\n",
      "   X    X    X    X    X    X    X    X    X    X\n"
     ]
    }
   ],
   "source": [
    "import grass_fire\n",
    "grass_fire.main()"
   ]
  },
  {
   "cell_type": "markdown",
   "id": "b548a4d4",
   "metadata": {},
   "source": [
    "However you will quickly realize that this algorithm scales very poorly to problems with bigger state space:"
   ]
  },
  {
   "cell_type": "code",
   "execution_count": 3,
   "id": "1a9124da",
   "metadata": {},
   "outputs": [
    {
     "name": "stdout",
     "output_type": "stream",
     "text": [
      "YO: 25, 25\n",
      "Path search took 1.2825649992009858ms, final cost: 8.0\n",
      "YO: 100, 100\n",
      "Path search took 2.17200099996262ms, final cost: 18.0\n",
      "YO: 400, 400\n",
      "Path search took 6.89325999974244ms, final cost: 38.0\n",
      "YO: 2500, 2500\n",
      "Path search took 28.44548700068117ms, final cost: 98.0\n",
      "YO: 10000, 10000\n",
      "Path search took 104.03992599913181ms, final cost: 198.0\n",
      "YO: 40000, 40000\n",
      "Path search took 610.5604269996547ms, final cost: 398.0\n",
      "YO: 160000, 160000\n",
      "Path search took 3582.4503040003037ms, final cost: 798.0\n",
      "YO: 250000, 250000\n",
      "Path search took 6890.227003999826ms, final cost: 998.0\n",
      "YO: 1000000, 1000000\n",
      "Path search took 57111.03616899982ms, final cost: 1998.0\n"
     ]
    }
   ],
   "source": [
    "import jupy_main as jm\n",
    "\n",
    "jm.run_grass_fire({'grid_size': 5, 'number_obstacles': 0, 'no_render': True})\n",
    "jm.run_grass_fire({'grid_size': 10, 'number_obstacles': 0, 'no_render': True})\n",
    "jm.run_grass_fire({'grid_size': 20, 'number_obstacles': 0, 'no_render': True})\n",
    "jm.run_grass_fire({'grid_size': 50, 'number_obstacles': 0, 'no_render': True})\n",
    "jm.run_grass_fire({'grid_size': 100, 'number_obstacles': 0, 'no_render': True})\n",
    "jm.run_grass_fire({'grid_size': 200, 'number_obstacles': 0, 'no_render': True})\n",
    "jm.run_grass_fire({'grid_size': 400, 'number_obstacles': 0, 'no_render': True})\n",
    "jm.run_grass_fire({'grid_size': 500, 'number_obstacles': 0, 'no_render': True})\n",
    "jm.run_grass_fire({'grid_size': 1000, 'number_obstacles': 0, 'no_render': True})"
   ]
  },
  {
   "cell_type": "markdown",
   "id": "8e64e5b2",
   "metadata": {},
   "source": [
    "### Question 1: complexity\n",
    "\n",
    "a. Given that our map is a square, what is the size of the input `n` based on the size of the grid `m`?\n",
    "\n",
    "**<font color='red'>$n = m^2$ - the input size `n` (the size of the graph) grows quadratically w.r.t `m`</font>**\n",
    "\n",
    "b. What seems to be the complexity of this implementation? Please note that we are lookin at `O(n)` and *not* `O(m)`.\n",
    "\n",
    "<font color='red'>**The complexity seems to be $O(n^2 \\cdot ln(n))$. To find this out, notice that, for each iteration with an input size $n = m^2$ and runtime $r(n)$:**\n",
    "    $$\n",
    "    \\frac{r(n)}{n * ln(n)} = K,~\\forall n\n",
    "    $$\n",
    "**The intuition behind this result is that the complexity is obviously worse than linear ($O(n)$), but better than quadratic ($O(n^2)$).**\n",
    "</font>\n",
    "\n",
    "c. Reading the source of this code (file `grass_fire.py`, function `GrassFire::compute_path`), where is the bottleneck? How could this bottleneck be optimized? What would the complexity be without this bottleneck?\n",
    "\n",
    "**<font color='red'>To make sure we process the nodes with the lowest cost every iteration (if not, we may explore up to $n^3$ if I'm not mistaken), we sort the list of nodes to explore. Sorting a list takes $O(n \\cdot ln(n))$ on the general case. Using a binary heap could reduce the insertion + sorting to a $O(1)$ operation.**\n",
    "</font>\n",
    "<font color='red'>  \n",
    " **Regarding the new complexity: we explore nodes in increasing cost, and the cost-to-go depends on the destination node only. Those two facts mean that when we set the cost of a node, this cost is guaranteed to be minimum. Since nodes are inserted to our heap only when their cost is reduced, and the cost is reduced exactly once for each node (the first time we process them), we add exactly `n` nodes to the list, and process them exactly once. The new complexity is therefore is $O(n)$.</font>**\n",
    "\n",
    "\n",
    "\n",
    "# Reminder: the algorithm description\n",
    "\n",
    "TODO: make sure those guys know wassup\n",
    "\n",
    "\n",
    "# The beginning: our graph's Node class\n",
    "\n",
    "For this exercise we give you already the definition of the `Node` we will be using. Notice the differences between `AstarNode` and `GrassFireNode`: this is why we are coupling graph creation with graph search!<sup>[1]</sup>"
   ]
  },
  {
   "cell_type": "code",
   "execution_count": 16,
   "id": "a3e12836",
   "metadata": {},
   "outputs": [],
   "source": [
    "from typing import Optional\n",
    "from graph import Node\n",
    "import heapq\n",
    "\n",
    "\n",
    "class AstarNode(Node):\n",
    "    def __init__(self, x: int, y: int, cost_to_go: float) -> None:\n",
    "        super().__init__(x, y, cost_to_go)\n",
    "        self.h = 0.0\n",
    "        self.parent: Optional[AstarNode] = None\n",
    "\n",
    "    @property\n",
    "    def f(self):\n",
    "        return self.h + self.cost\n",
    "    \n",
    "    def __lt__(self, other):\n",
    "        return self.f < other.f if self.f != other.f else self.h < other.h"
   ]
  },
  {
   "cell_type": "markdown",
   "id": "753144cd",
   "metadata": {},
   "source": [
    "The `x`, `y`, and `cost_to_go` are passed to the base class. `h` is initialized to some placeholder value (could have chosen `inf` as well). The `cost` attribute of the base `Node` corresponds to the `g` function in A* parlance, hence its use in the definition of the `f` property. The `parent` attribute is used to actually construct our path: by recursively retrieving parents, one constructs a path. You will notice that the definition of the `__lt__` method is missing - which brings us to the next question.\n",
    "\n",
    "## Question 2\n",
    "\n",
    "Later in the algorithm, we will feed the `AstarNode` into a priority queue (more specifically, Python's `heapq`). This will allow us to retrieve efficiently the node with the lower cost `f`). To this aim, we decide to implement a comparison operator for the node class.\n",
    "\n",
    "a. implement the `__lt__` function above (note: this defines strict inequality `<`, not `<=`)"
   ]
  },
  {
   "cell_type": "markdown",
   "id": "7edc2356",
   "metadata": {},
   "source": [
    "b. (answer after finishing the book) Should we (if so, why?) treat the case where $f_a = f_b$ but with $h_a < h_b$?\n",
    "\n",
    "**<font color='red'>Given the same cost `f`, we should prefer the node with the lower `h` / higher `g` cost.**    </font>\n",
    "\n",
    "**<font color='red'>Demonstration: there would be two possible situations if we kept exploring both paths $a$ and $b$ until the end of the algorithm:**\n",
    "    </font>\n",
    "\n",
    "**<font color='red'>1. One of the two paths is (stricly) better than the other. This information is however not available when we have to choose between $a$ and $b$, meaning that, at this point, choosing any path is correct.\n",
    "</font>**\n",
    "\n",
    "**<font color='red'>2. Both paths have the same final cost (i.e. they are alternative paths). In this case, if the number of iterations left is increasing in the value $h$ (fair assumption for most heuristics), then the path with the lower $h$ value has less \"effort\" left to reach the destination.\n",
    "  </font>**\n",
    "\n",
    "\n",
    "# Heuristic\n",
    "\n",
    "The A* algorithm needs a heuristic `h` to direct the search. This function's goal is to give a rough estimate of the cost from a node `a` to a node `b` (usually the goal node). To allow trying out different heuristics, we created an abstract `AstarHeuristic` class:"
   ]
  },
  {
   "cell_type": "code",
   "execution_count": 6,
   "id": "a283c631",
   "metadata": {},
   "outputs": [],
   "source": [
    "from abc import ABC, abstractmethod\n",
    "\n",
    "class AstarHeuristic(ABC):\n",
    "    @abstractmethod\n",
    "    def __call__(self, xs: int, ys: int, xf: int, yf: int) -> float:\n",
    "        pass"
   ]
  },
  {
   "cell_type": "markdown",
   "id": "e2f04c42",
   "metadata": {},
   "source": [
    "Where `xs`, `ys` and `xf`, `yf` are the coordinate of the start and end node respectively.\n",
    "\n",
    "\n",
    "## Question 3\n",
    "\n",
    "The novel idea A* brought was the use of a heuristic. From this function's properties can various properties of A* be derived. Namely, an *optimistic* heuristic guarantees the algorithm's output will be optimal. Here, *optimistic* means the value given by the function is a lower-bound to the real cost of going from one node to another, i.e.:\n",
    "\n",
    "$$\n",
    "  h~\\text{is optimistic } \\Leftrightarrow h(n_a, n_b) \\le g^*(n_a, n_b), \\forall n_a, n_b \\in \\mathcal{N}\n",
    "$$\n",
    "\n",
    "Where $g^*(a, b)$ is the function giving the optimal cost for going from $a$ to $b$.\n",
    "\n",
    "\n",
    "a. (answer after finishing the book) why would we ever want to use a non-optimistic heuristic?\n",
    "\n",
    "b. (answer after finishing the book) are all optimistic heuristics equivalent?\n",
    "\n",
    "c. Implement the heuristic below"
   ]
  },
  {
   "cell_type": "code",
   "execution_count": 7,
   "id": "0621f917",
   "metadata": {},
   "outputs": [],
   "source": [
    "class Norm1AstarHeuristic(AstarHeuristic):\n",
    "    def __call__(self, xs: int, ys: int, xf: int, yf: int) -> float:\n",
    "        return abs(xs - xf) + abs(ys - yf)"
   ]
  },
  {
   "cell_type": "markdown",
   "id": "8cb2e273",
   "metadata": {},
   "source": [
    "Looking at the `grass_fire.py` code, you may have noticed we associate to cost-to-go (i.e. the cost of going from a node A to a node B) to the destination node (i.e. we do not explictly create the edges). This association is done by passing a `cost_map` $c : (\\mathbb{R} \\times \\mathbb{R}) \\rightarrow  \\mathbb{R}$ to the constructor of the graph.\n",
    "This map returns the cost-to-go associated to the node (identified by its $(x, y)$ coordinates).\n",
    "\n",
    "We do the same with our `AstarGraph`, except we create `AstarNode`s instead of `GrassFireNode`s. The rest of the implementation is missing some bits. These you have to write yourself."
   ]
  },
  {
   "cell_type": "code",
   "execution_count": 34,
   "id": "27ecea11",
   "metadata": {},
   "outputs": [],
   "source": [
    "from graph import Graph\n",
    "from typing import List\n",
    "from math import inf\n",
    "from logging import info, warning\n",
    "\n",
    "class AstarGraph(Graph[AstarNode]):\n",
    "    def __init__(self, max_x: int, max_y: int, cost_map, h: AstarHeuristic) -> None:\n",
    "        super().__init__(max_x, max_y)\n",
    "        self.h = h\n",
    "        for z in range(max_x * max_y):\n",
    "            x, y = self._unflatten(z)\n",
    "            self._nodes.append(AstarNode(x, y, cost_map[(x, y)]))\n",
    "            \n",
    "    def reset_nodes(self):\n",
    "        for n in self._nodes:\n",
    "            n.cost = inf\n",
    "            n.parent = None\n",
    "\n",
    "    def collect_path(self, node: AstarNode) -> List[AstarNode]:\n",
    "        path = [node]\n",
    "        while path[-1].parent is not None:\n",
    "            path.append(path[-1].parent)\n",
    "        path.reverse()\n",
    "        return path\n",
    "    \n",
    "    def get_neighbors(self, node: AstarNode, make_8_connected=True) -> List[AstarNode]:\n",
    "        out = []\n",
    "        du = [\n",
    "            (-1, 0),\n",
    "            (1, 0),\n",
    "            (0, -1),\n",
    "            (0, 1),\n",
    "        ]\n",
    "        if make_8_connected:\n",
    "            du += [\n",
    "                (1, 1),\n",
    "                (1, -1),\n",
    "                (-1, 1),\n",
    "                (-1, -1),\n",
    "            ]\n",
    "            \n",
    "        # Note: this gives us an 8-connected grid\n",
    "        for (dx, dy) in du:\n",
    "            if dx == 0 and dy == 0:\n",
    "                continue\n",
    "            next_node = self.try_node(node.x + dx, node.y + dy)\n",
    "            if next_node:\n",
    "                out.append(next_node)\n",
    "        return out\n",
    "\n",
    "    def compute_path(self, xs: int, ys: int, xf: int, yf: int) -> List[AstarNode]:\n",
    "        self.reset_nodes()\n",
    "        start = self.node(xs, ys)\n",
    "        start.cost = 0 # cost from start to itself is obviously 0\n",
    "        heap = [start]\n",
    "\n",
    "        max_iter = 1000000\n",
    "        for n in range(max_iter):\n",
    "            try:\n",
    "                node_to_explore = heapq.heappop(heap)\n",
    "            except IndexError:\n",
    "                warning(\n",
    "                    f\"No path exists from start ({xs}, {ys}) to goal ({xf}, {yf}) after {n+1} iterations\"\n",
    "                )\n",
    "                return []\n",
    "\n",
    "            x = node_to_explore.x\n",
    "            y = node_to_explore.y\n",
    "\n",
    "            if x == xf and y == yf:\n",
    "                info(\n",
    "                    f\"Found path from start ({xs}, {ys}) to goal ({xf}, {yf}) after {n+1} iterations and {n+1+len(heap)} nodes added\"\n",
    "                )\n",
    "                return self.collect_path(node_to_explore)\n",
    "\n",
    "            for next_node in self.get_neighbors(node_to_explore, True):\n",
    "                # The cost to go is the Euclidian distance crossed in each node,\n",
    "                # multiplied by the nodes' cost-to-go\n",
    "                # We do Euclidian in case the grid is 8-connected (see get_neighbors function),\n",
    "                # but for a 4-connected grid this changes nothing\n",
    "                dx = next_node.x - node_to_explore.x\n",
    "                dy = next_node.y - node_to_explore.y\n",
    "                dg = (\n",
    "                    (dx**2 + dy**2) ** 0.5\n",
    "                    * (next_node.cost_to_go + node_to_explore.cost_to_go)\n",
    "                    * 0.5\n",
    "                )\n",
    "                g = node_to_explore.cost + dg\n",
    "\n",
    "                # Already had a better path to reach this node, do nothing\n",
    "                if next_node.cost <= g:\n",
    "                    continue\n",
    "\n",
    "                next_node.cost = g\n",
    "                next_node.parent = node_to_explore\n",
    "                h = self.h(next_node.x, next_node.y, xf, yf)\n",
    "                next_node.h = h\n",
    "                heapq.heappush(heap, next_node)\n",
    "\n",
    "        warning(f\"Could not find a path after {max_iter} iterations\")\n",
    "        return []"
   ]
  },
  {
   "cell_type": "markdown",
   "id": "c45eb147",
   "metadata": {},
   "source": [
    "a. Why do we check `x == xf and y == yf` after popping a node from the heap, rather than before inserting it (i.e. inside the `for` loop)?\n",
    "\n",
    "# Trying out the solution\n",
    "\n",
    "Let's try the same thing we did with the `GrassFire`, but with our new A*. This is a trivial test (since there are no obstacles), but gives us a good idea of the best-case complexity:"
   ]
  },
  {
   "cell_type": "code",
   "execution_count": 35,
   "id": "c8ec0e32",
   "metadata": {},
   "outputs": [
    {
     "name": "stdout",
     "output_type": "stream",
     "text": [
      "Path search took 0.14862199986964697ms, final cost: 5.656854249492381\n",
      "Path search took 0.40372500006924383ms, final cost: 12.727922061357859\n",
      "Path search took 1.072488000318117ms, final cost: 26.870057685088817\n",
      "Path search took 4.938817000038398ms, final cost: 69.2964645562816\n",
      "Path search took 16.85031600027287ms, final cost: 140.00714267493635\n",
      "Path search took 81.26730700041662ms, final cost: 281.428498912247\n",
      "Path search took 331.2316130004547ms, final cost: 564.2712113868682\n",
      "Path search took 527.9987189996973ms, final cost: 705.6925676241789\n"
     ]
    }
   ],
   "source": [
    "h = Norm1AstarHeuristic()\n",
    "a = AstarGraph\n",
    "jm.run_astar_with_heuristic({'grid_size': 5, 'number_obstacles': 0, 'no_render': True}, a, h)\n",
    "jm.run_astar_with_heuristic({'grid_size': 10, 'number_obstacles': 0, 'no_render': True}, a, h)\n",
    "jm.run_astar_with_heuristic({'grid_size': 20, 'number_obstacles': 0, 'no_render': True}, a, h)\n",
    "jm.run_astar_with_heuristic({'grid_size': 50, 'number_obstacles': 0, 'no_render': True}, a, h)\n",
    "jm.run_astar_with_heuristic({'grid_size': 100, 'number_obstacles': 0, 'no_render': True}, a, h)\n",
    "jm.run_astar_with_heuristic({'grid_size': 200, 'number_obstacles': 0, 'no_render': True}, a, h)\n",
    "jm.run_astar_with_heuristic({'grid_size': 400, 'number_obstacles': 0, 'no_render': True}, a, h)\n",
    "jm.run_astar_with_heuristic({'grid_size': 500, 'number_obstacles': 0, 'no_render': False}, a, h)"
   ]
  },
  {
   "cell_type": "markdown",
   "id": "74e2eaf5",
   "metadata": {},
   "source": [
    "#### Footnotes\n",
    "\n",
    "[1] A graph and a graph search algorithm are two different things, and the latter can be implemented generically over the former. This requires however the Graph (as well as the Node and Edge) class to implement a number of functions. While not a specifically daunting task, this is not within the scope of this exercise. We have therefore decided to keep the graph creation and search tighly coupled, allowing you (almost) complete freedom over the way nodes and edges are stored. For an example implementation of a generic graph library, the Boost Graph Library (BGL) is your best bet: https://www.boost.org/doc/libs/1_81_0/libs/graph/doc/index.html"
   ]
  }
 ],
 "metadata": {
  "kernelspec": {
   "display_name": "Python 3 (ipykernel)",
   "language": "python",
   "name": "python3"
  },
  "language_info": {
   "codemirror_mode": {
    "name": "ipython",
    "version": 3
   },
   "file_extension": ".py",
   "mimetype": "text/x-python",
   "name": "python",
   "nbconvert_exporter": "python",
   "pygments_lexer": "ipython3",
   "version": "3.10.6"
  }
 },
 "nbformat": 4,
 "nbformat_minor": 5
}
